{
 "cells": [
  {
   "cell_type": "markdown",
   "metadata": {},
   "source": [
    "# Scraping Concerts - Lab\n",
    "\n",
    "## Introduction\n",
    "\n",
    "Now that you've seen how to scrape a simple website, it's time to again practice those skills on a full-fledged site!\n",
    "In this lab, you'll practice your scraping skills on a music website: https://www.residentadvisor.net.\n",
    "## Objectives\n",
    "\n",
    "You will be able to:\n",
    "* Scrape events from a website\n",
    "* Follow links to those events to retrieve further information\n",
    "* Clean and store scraped data"
   ]
  },
  {
   "cell_type": "markdown",
   "metadata": {},
   "source": [
    "## View the Website\n",
    "\n",
    "For this lab, you'll be scraping the https://www.residentadvisor.net website. Start by navigating to the events page [here](https://www.residentadvisor.net/events) in your browser.\n",
    "\n",
    "<img src=\"images/ra.png\">"
   ]
  },
  {
   "cell_type": "code",
   "execution_count": 111,
   "metadata": {},
   "outputs": [],
   "source": [
    "#Load the https://www.residentadvisor.net/events page in your browser.\n",
    "from bs4 import BeautifulSoup\n",
    "import requests\n",
    "import pandas as pd\n",
    "\n",
    "html_page = requests.get('https://www.residentadvisor.net/events') #Make a get request to retrieve the page\n",
    "soup = BeautifulSoup(html_page.content, 'html.parser')\n",
    "#soup.prettify\n"
   ]
  },
  {
   "cell_type": "markdown",
   "metadata": {},
   "source": [
    "## Open the Inspect Element Feature\n",
    "\n",
    "Next, open the inspect element feature from your web browser in order to preview the underlying HTML associated with the page."
   ]
  },
  {
   "cell_type": "code",
   "execution_count": 2,
   "metadata": {},
   "outputs": [],
   "source": [
    "#Open the inspect element feature in your browser\n",
    "listed = soup.find('div', id=\"event-listing\")\n",
    "dates = [li.find('a').text for li in listed.findAll('li')]"
   ]
  },
  {
   "cell_type": "code",
   "execution_count": 3,
   "metadata": {},
   "outputs": [
    {
     "data": {
      "text/plain": [
       "'Event details of Lnsc presents Deeperluv with Cassy (Kwench, AUS)'"
      ]
     },
     "execution_count": 3,
     "metadata": {},
     "output_type": "execute_result"
    }
   ],
   "source": [
    "listed.findAll('h1')[0].a['title']\n"
   ]
  },
  {
   "cell_type": "code",
   "execution_count": 4,
   "metadata": {},
   "outputs": [
    {
     "data": {
      "text/plain": [
       "\"at It'll Do, Dallas/Fort Worth\""
      ]
     },
     "execution_count": 4,
     "metadata": {},
     "output_type": "execute_result"
    }
   ],
   "source": [
    "listed.findAll('h1')[3].span.text\n",
    "\n"
   ]
  },
  {
   "cell_type": "markdown",
   "metadata": {},
   "source": [
    "## Write a Function to Scrape all of the Events on the Given Page Events Page\n",
    "\n",
    "The function should return a Pandas DataFrame with columns for the Event_Name, Venue, Event_Date and Number_of_Attendees."
   ]
  },
  {
   "cell_type": "markdown",
   "metadata": {},
   "source": [
    "## Write a Function to Retrieve the URL for the Next Page"
   ]
  },
  {
   "cell_type": "code",
   "execution_count": 108,
   "metadata": {},
   "outputs": [],
   "source": [
    "def scrape_events(events_page_url):\n",
    "    html_page = requests.get(events_page_url) #Make a get request to retrieve the page\n",
    "    soup = BeautifulSoup(html_page.content, 'html.parser')\n",
    "    listed = soup.find('div', id=\"event-listing\")\n",
    "    listes=listed.findAll('li')\n",
    "    title_2=[]\n",
    "    venue_2=[]\n",
    "    attend=[]\n",
    "    dates=[]\n",
    "    df3=pd.DataFrame\n",
    "    for lis in listes:\n",
    "        date = lis.find('p', class_=\"eventDate date\")\n",
    "        event = lis.find('h1', class_=\"event-title\")\n",
    "        att=lis.find('p', class_=\"attending\")\n",
    "        #if there is date use the new data for following events\n",
    "        if date:\n",
    "            current=date.text[:16] \n",
    "        elif event:\n",
    "            title_2.append(event.a['title'][17:])\n",
    "            venue_2.append(event.span.text[3:])\n",
    "            dates.append(current)\n",
    "            #if there is event and att is True add that to attandies column, if not append 0.\n",
    "            if att:\n",
    "                attend.append(int(att.span.text))\n",
    "\n",
    "            else:\n",
    "                attend.append(0)\n",
    "\n",
    "    df3=pd.DataFrame([title_2,venue_2,dates,attend]).transpose()\n",
    "    df3.columns=[\"Title\", \"Venue\", \"Date\", \"Attandies\"]\n",
    "    return df3"
   ]
  },
  {
   "cell_type": "code",
   "execution_count": 109,
   "metadata": {},
   "outputs": [],
   "source": [
    "def next_page(url):\n",
    "    html_page = requests.get(url) #Make a get request to retrieve the page\n",
    "    soup = BeautifulSoup(html_page.content, 'html.parser')\n",
    "     #check if the next page has no event\n",
    "    noevent = soup.find('div', class_=\"but noEvents\")\n",
    "    if noevent:\n",
    "     #if there is no event return None\n",
    "        return None  \n",
    "    else:     \n",
    "        nextpage = soup.find('div', class_=\"page-items content sub clearfix\")\n",
    "        add=nextpage.findAll('li')[1].a['href']\n",
    "        next_page_url=\"https://www.residentadvisor.net\"+ add \n",
    "    return next_page_url"
   ]
  },
  {
   "cell_type": "markdown",
   "metadata": {},
   "source": [
    "## Scrape the Next 1000 Events for Your Area\n",
    "\n",
    "Display the data sorted by the number of attendees. If there is a tie for the number attending, sort by event date."
   ]
  },
  {
   "cell_type": "code",
   "execution_count": 116,
   "metadata": {
    "scrolled": true
   },
   "outputs": [
    {
     "data": {
      "text/html": [
       "<div>\n",
       "<style scoped>\n",
       "    .dataframe tbody tr th:only-of-type {\n",
       "        vertical-align: middle;\n",
       "    }\n",
       "\n",
       "    .dataframe tbody tr th {\n",
       "        vertical-align: top;\n",
       "    }\n",
       "\n",
       "    .dataframe thead th {\n",
       "        text-align: right;\n",
       "    }\n",
       "</style>\n",
       "<table border=\"1\" class=\"dataframe\">\n",
       "  <thead>\n",
       "    <tr style=\"text-align: right;\">\n",
       "      <th></th>\n",
       "      <th>Title</th>\n",
       "      <th>Venue</th>\n",
       "      <th>Date</th>\n",
       "      <th>Attandies</th>\n",
       "    </tr>\n",
       "  </thead>\n",
       "  <tbody>\n",
       "    <tr>\n",
       "      <th>0</th>\n",
       "      <td>Rüfüs Du Sol Solace Tour 2019</td>\n",
       "      <td>The Moody Theater, Austin</td>\n",
       "      <td>Fri, 26 Jul 2019</td>\n",
       "      <td>0</td>\n",
       "    </tr>\n",
       "    <tr>\n",
       "      <th>1</th>\n",
       "      <td>Cosmophoria Feat. Culttastic and Night Drive</td>\n",
       "      <td>Bauhaus, Houston</td>\n",
       "      <td>Fri, 26 Jul 2019</td>\n",
       "      <td>0</td>\n",
       "    </tr>\n",
       "    <tr>\n",
       "      <th>2</th>\n",
       "      <td>Alteon</td>\n",
       "      <td>Limelight, San Antonio</td>\n",
       "      <td>Fri, 30 Aug 2019</td>\n",
       "      <td>0</td>\n",
       "    </tr>\n",
       "    <tr>\n",
       "      <th>3</th>\n",
       "      <td>MartyParty (of Pantyraid)</td>\n",
       "      <td>The Parish, Austin</td>\n",
       "      <td>Fri, 30 Aug 2019</td>\n",
       "      <td>0</td>\n",
       "    </tr>\n",
       "    <tr>\n",
       "      <th>4</th>\n",
       "      <td>House of Tones presents: Colette and DJ Heather</td>\n",
       "      <td>The Venue ATX, Austin</td>\n",
       "      <td>Sat, 10 Aug 2019</td>\n",
       "      <td>0</td>\n",
       "    </tr>\n",
       "  </tbody>\n",
       "</table>\n",
       "</div>"
      ],
      "text/plain": [
       "                                             Title                      Venue  \\\n",
       "0                    Rüfüs Du Sol Solace Tour 2019  The Moody Theater, Austin   \n",
       "1     Cosmophoria Feat. Culttastic and Night Drive           Bauhaus, Houston   \n",
       "2                                           Alteon     Limelight, San Antonio   \n",
       "3                        MartyParty (of Pantyraid)         The Parish, Austin   \n",
       "4  House of Tones presents: Colette and DJ Heather      The Venue ATX, Austin   \n",
       "\n",
       "               Date Attandies  \n",
       "0  Fri, 26 Jul 2019         0  \n",
       "1  Fri, 26 Jul 2019         0  \n",
       "2  Fri, 30 Aug 2019         0  \n",
       "3  Fri, 30 Aug 2019         0  \n",
       "4  Sat, 10 Aug 2019         0  "
      ]
     },
     "execution_count": 116,
     "metadata": {},
     "output_type": "execute_result"
    }
   ],
   "source": [
    "# Run the code to scrape the first page \n",
    "df_all=pd.DataFrame\n",
    "url=\"https://www.residentadvisor.net/events/\"\n",
    "df_all=scrape_events(url)\n",
    "\n",
    "#run next_page to find the next url.\n",
    "\n",
    "url=next_page(url)\n",
    "\n",
    "#running scrape_event will only possible if there is a url. If the url is none, \n",
    "#program will stop scraping\n",
    "\n",
    "while url:  \n",
    "    df2=scrape_events(url)\n",
    "    #concat the new dataframe with the next page events with the complete dataset\n",
    "    df_all=df_all.append(df2, ignore_index=True)\n",
    "    # find the next page url\n",
    "    url=next_page(url)\n",
    "\n",
    "df_all= df_all.sort_values(by=['Attandies', 'Date'])\n",
    "df_all.index=df_all.index.sort_values()\n",
    "df_all = df_all.iloc[:1000]\n",
    "df_all.head()"
   ]
  },
  {
   "cell_type": "markdown",
   "metadata": {},
   "source": [
    "## Summary \n",
    "\n",
    "Congratulations! In this lab, you successfully scraped a website for concert event information!"
   ]
  }
 ],
 "metadata": {
  "kernelspec": {
   "display_name": "Python 3",
   "language": "python",
   "name": "python3"
  },
  "language_info": {
   "codemirror_mode": {
    "name": "ipython",
    "version": 3
   },
   "file_extension": ".py",
   "mimetype": "text/x-python",
   "name": "python",
   "nbconvert_exporter": "python",
   "pygments_lexer": "ipython3",
   "version": "3.7.1"
  }
 },
 "nbformat": 4,
 "nbformat_minor": 2
}
